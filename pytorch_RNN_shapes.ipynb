{
  "nbformat": 4,
  "nbformat_minor": 0,
  "metadata": {
    "colab": {
      "provenance": [],
      "authorship_tag": "ABX9TyNc5a0tFJ7OtESemUEYfY8J",
      "include_colab_link": true
    },
    "kernelspec": {
      "name": "python3",
      "display_name": "Python 3"
    },
    "language_info": {
      "name": "python"
    }
  },
  "cells": [
    {
      "cell_type": "markdown",
      "metadata": {
        "id": "view-in-github",
        "colab_type": "text"
      },
      "source": [
        "<a href=\"https://colab.research.google.com/github/aramakrishnan-006/pytorch-notebooks/blob/main/pytorch_RNN_shapes.ipynb\" target=\"_parent\"><img src=\"https://colab.research.google.com/assets/colab-badge.svg\" alt=\"Open In Colab\"/></a>"
      ]
    },
    {
      "cell_type": "code",
      "execution_count": 30,
      "metadata": {
        "id": "dIhxRCxdZd93"
      },
      "outputs": [],
      "source": [
        "import torch\n",
        "import torch.nn as nn\n",
        "import numpy as np\n",
        "import matplotlib.pyplot as plt"
      ]
    },
    {
      "cell_type": "code",
      "source": [
        "'''\n",
        "N -> Number of Samples\n",
        "T -> Length of Sequence\n",
        "D -> Number of Features\n",
        "M -> Number of Hidden units\n",
        "K -> Number of Output units\n",
        "'''\n"
      ],
      "metadata": {
        "colab": {
          "base_uri": "https://localhost:8080/",
          "height": 35
        },
        "id": "_t_mE2QxZmHU",
        "outputId": "fcedf2bd-32e9-4c2e-f388-d1b4ff1cea19"
      },
      "execution_count": 31,
      "outputs": [
        {
          "output_type": "execute_result",
          "data": {
            "text/plain": [
              "'\\nN -> Number of Samples\\nT -> Length of Sequence\\nD -> Number of Features\\nM -> Number of Hidden units\\nK -> Number of Output units\\n'"
            ],
            "application/vnd.google.colaboratory.intrinsic+json": {
              "type": "string"
            }
          },
          "metadata": {},
          "execution_count": 31
        }
      ]
    },
    {
      "cell_type": "code",
      "source": [
        "# Generate Data\n",
        "N = 1\n",
        "T = 10\n",
        "D = 3\n",
        "M = 5\n",
        "K = 2 #Imagine the output to be like lat long co-od. This means that the logical output is only 1 set, but consists of 2 parts\n",
        "\n",
        "X = np.random.randn(N, T, D)"
      ],
      "metadata": {
        "id": "5WllZxA-Zy7z"
      },
      "execution_count": 32,
      "outputs": []
    },
    {
      "cell_type": "code",
      "source": [
        "\n",
        "#Define a SimpleRNN\n",
        "class SimpleRNN(nn.Module):\n",
        "  def __init__(self, n_inputs, n_hidden, n_outputs):\n",
        "    super(SimpleRNN, self).__init__()\n",
        "    self.D = n_inputs\n",
        "    self.M = n_hidden\n",
        "    self.K = n_outputs\n",
        "\n",
        "    #If batch first is set to True, then the shape will be\n",
        "    #(num of samples, sequence length and number of features)\n",
        "    #or else\n",
        "    #(sequence length, number of samples and number of features)\n",
        "\n",
        "    self.rnn = nn.RNN(\n",
        "        input_size = self.D,\n",
        "        hidden_size = self.M,\n",
        "        nonlinearity = 'tanh',\n",
        "        batch_first = True\n",
        "    )\n",
        "    self.fc = nn.Linear(self.M, self.K)\n",
        "\n",
        "  def forward(self, X):\n",
        "    h0 = torch.zeros(1, X.size(0), self.M)\n",
        "\n",
        "    #get the output of the RNN unit; Size is NxTxM\n",
        "    #The _ is to capture the hidden state at the hidden layer. We don't use this\n",
        "    out, _ = self.rnn(X, h0)\n",
        "\n",
        "    #Output at the final layer\n",
        "    # NxTxK\n",
        "    out = self.fc(out)\n",
        "    return out"
      ],
      "metadata": {
        "id": "nE-i4emtaeLl"
      },
      "execution_count": 33,
      "outputs": []
    },
    {
      "cell_type": "code",
      "source": [
        "\n",
        "#Building the Model\n",
        "model = SimpleRNN(n_inputs = D, n_hidden = M, n_outputs=K)"
      ],
      "metadata": {
        "id": "PNm3ovZJbdt3"
      },
      "execution_count": 34,
      "outputs": []
    },
    {
      "cell_type": "code",
      "source": [
        "inputs = torch.from_numpy(X.astype(np.float32))"
      ],
      "metadata": {
        "id": "IxlMOP1sbhQf"
      },
      "execution_count": 35,
      "outputs": []
    },
    {
      "cell_type": "code",
      "source": [
        "out = model(inputs)"
      ],
      "metadata": {
        "id": "KfQ6TJTnbnCG"
      },
      "execution_count": 36,
      "outputs": []
    },
    {
      "cell_type": "code",
      "source": [
        "out"
      ],
      "metadata": {
        "colab": {
          "base_uri": "https://localhost:8080/"
        },
        "id": "b0UW_nz9bpbF",
        "outputId": "218b548a-d623-483b-8550-833f216ab567"
      },
      "execution_count": 37,
      "outputs": [
        {
          "output_type": "execute_result",
          "data": {
            "text/plain": [
              "tensor([[[0.8554, 0.1904],\n",
              "         [0.1754, 0.1891],\n",
              "         [0.5608, 0.3311],\n",
              "         [0.2357, 0.2064],\n",
              "         [0.2606, 0.2381],\n",
              "         [0.4244, 0.1892],\n",
              "         [0.5049, 0.3548],\n",
              "         [0.6795, 0.5007],\n",
              "         [0.4063, 0.2149],\n",
              "         [0.4123, 0.2507]]], grad_fn=<ViewBackward0>)"
            ]
          },
          "metadata": {},
          "execution_count": 37
        }
      ]
    },
    {
      "cell_type": "code",
      "source": [
        "out.shape"
      ],
      "metadata": {
        "colab": {
          "base_uri": "https://localhost:8080/"
        },
        "id": "bGIOdc6JbxAp",
        "outputId": "aa43eae8-676a-4cb7-990c-324b66f54bdd"
      },
      "execution_count": 38,
      "outputs": [
        {
          "output_type": "execute_result",
          "data": {
            "text/plain": [
              "torch.Size([1, 10, 2])"
            ]
          },
          "metadata": {},
          "execution_count": 38
        }
      ]
    },
    {
      "cell_type": "code",
      "source": [
        "yhat_torch = out.detach().numpy()"
      ],
      "metadata": {
        "id": "UFptUY0Kbz18"
      },
      "execution_count": 39,
      "outputs": []
    },
    {
      "cell_type": "code",
      "source": [
        "#Implementing RNN from barebones\n",
        "\n",
        "W_xh, W_hh, b_xh, b_hh = model.rnn.parameters()"
      ],
      "metadata": {
        "id": "CUfZdOxGb600"
      },
      "execution_count": 40,
      "outputs": []
    },
    {
      "cell_type": "code",
      "source": [
        "W_xh.shape"
      ],
      "metadata": {
        "colab": {
          "base_uri": "https://localhost:8080/"
        },
        "id": "tGdMreHycDVQ",
        "outputId": "0e09a4d0-43d7-4f46-a9cb-a7ac1783d698"
      },
      "execution_count": 41,
      "outputs": [
        {
          "output_type": "execute_result",
          "data": {
            "text/plain": [
              "torch.Size([5, 3])"
            ]
          },
          "metadata": {},
          "execution_count": 41
        }
      ]
    },
    {
      "cell_type": "code",
      "source": [
        "W_xh = W_xh.data.numpy()"
      ],
      "metadata": {
        "id": "KsPVPcbFcE9W"
      },
      "execution_count": 42,
      "outputs": []
    },
    {
      "cell_type": "code",
      "source": [
        "W_hh = W_hh.data.numpy()\n",
        "b_xh = b_xh.data.numpy()\n",
        "b_hh = b_hh.data.numpy()"
      ],
      "metadata": {
        "id": "BZjH2XqpcIVF"
      },
      "execution_count": 43,
      "outputs": []
    },
    {
      "cell_type": "code",
      "source": [
        "#The numbers should follow the inputs, hidden layer numbers\n",
        "# 3 features, 5 hidden units\n",
        "# 5 bias terms\n",
        "\n",
        "W_xh.shape, b_xh.shape, W_hh.shape, b_hh.shape"
      ],
      "metadata": {
        "colab": {
          "base_uri": "https://localhost:8080/"
        },
        "id": "gXTESlh_cQ8h",
        "outputId": "2bf00943-85ac-4b38-bc78-b5963c7017c2"
      },
      "execution_count": 44,
      "outputs": [
        {
          "output_type": "execute_result",
          "data": {
            "text/plain": [
              "((5, 3), (5,), (5, 5), (5,))"
            ]
          },
          "metadata": {},
          "execution_count": 44
        }
      ]
    },
    {
      "cell_type": "code",
      "source": [
        "# Getting the final fully connected layer parameters\n",
        "# This is the layer that is connected to the output\n",
        "Wo, bo = model.fc.parameters()"
      ],
      "metadata": {
        "id": "ZV0kFGj7ciom"
      },
      "execution_count": 45,
      "outputs": []
    },
    {
      "cell_type": "code",
      "source": [
        "Wo = Wo.data.numpy()\n",
        "bo = bo.data.numpy()\n",
        "Wo.shape, bo.shape"
      ],
      "metadata": {
        "colab": {
          "base_uri": "https://localhost:8080/"
        },
        "id": "5woHIEI2dEvo",
        "outputId": "6960f911-b91a-414d-fa65-7e7fcfa5ded6"
      },
      "execution_count": 46,
      "outputs": [
        {
          "output_type": "execute_result",
          "data": {
            "text/plain": [
              "((2, 5), (2,))"
            ]
          },
          "metadata": {},
          "execution_count": 46
        }
      ]
    },
    {
      "cell_type": "code",
      "source": [
        "h_last = np.zeros(M)\n",
        "x = X[0]\n",
        "Yhats = np.zeros((T,K)) #Outputs\n",
        "\n",
        "for t in range(T):\n",
        "  h = np.tanh(x[t].dot(W_xh.T) + b_xh + h_last.dot(W_hh.T) + b_hh)\n",
        "  y = h.dot(Wo.T) + bo\n",
        "\n",
        "  Yhats[t] = y\n",
        "\n",
        "  h_last = h\n",
        "\n",
        "print(Yhats)"
      ],
      "metadata": {
        "colab": {
          "base_uri": "https://localhost:8080/"
        },
        "id": "AFuebgU7dK7J",
        "outputId": "c1503a14-708f-44b7-fac4-eb79d9836f29"
      },
      "execution_count": 47,
      "outputs": [
        {
          "output_type": "stream",
          "name": "stdout",
          "text": [
            "[[0.85543753 0.19036498]\n",
            " [0.17543979 0.18906787]\n",
            " [0.56084059 0.33111797]\n",
            " [0.2356865  0.20642882]\n",
            " [0.26061645 0.23813986]\n",
            " [0.42441308 0.18923939]\n",
            " [0.50494503 0.35484738]\n",
            " [0.67948664 0.50067571]\n",
            " [0.40632076 0.21485729]\n",
            " [0.41230013 0.25070022]]\n"
          ]
        }
      ]
    },
    {
      "cell_type": "code",
      "source": [
        "#Checking if the calculation worked\n",
        "np.allclose(Yhats, yhat_torch)"
      ],
      "metadata": {
        "colab": {
          "base_uri": "https://localhost:8080/"
        },
        "id": "XspforZmd92J",
        "outputId": "2738f95a-ae0f-412c-942e-740f0b4cc893"
      },
      "execution_count": 49,
      "outputs": [
        {
          "output_type": "execute_result",
          "data": {
            "text/plain": [
              "True"
            ]
          },
          "metadata": {},
          "execution_count": 49
        }
      ]
    },
    {
      "cell_type": "code",
      "source": [],
      "metadata": {
        "id": "NU1hzZ9eeNzM"
      },
      "execution_count": null,
      "outputs": []
    }
  ]
}