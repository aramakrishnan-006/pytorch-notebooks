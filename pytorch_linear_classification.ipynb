{
  "nbformat": 4,
  "nbformat_minor": 0,
  "metadata": {
    "colab": {
      "provenance": [],
      "authorship_tag": "ABX9TyOwQsdQVZgBmz+E992gsyDx",
      "include_colab_link": true
    },
    "kernelspec": {
      "name": "python3",
      "display_name": "Python 3"
    },
    "language_info": {
      "name": "python"
    }
  },
  "cells": [
    {
      "cell_type": "markdown",
      "metadata": {
        "id": "view-in-github",
        "colab_type": "text"
      },
      "source": [
        "<a href=\"https://colab.research.google.com/github/aramakrishnan-006/pytorch-notebooks/blob/main/pytorch_linear_classification.ipynb\" target=\"_parent\"><img src=\"https://colab.research.google.com/assets/colab-badge.svg\" alt=\"Open In Colab\"/></a>"
      ]
    },
    {
      "cell_type": "code",
      "execution_count": 103,
      "metadata": {
        "id": "P5ucKAPoTJ53"
      },
      "outputs": [],
      "source": [
        "import torch\n",
        "import torch.nn as nn\n",
        "import numpy as np\n",
        "import matplotlib.pyplot as plt\n",
        "from sklearn.model_selection import train_test_split\n",
        "from sklearn.preprocessing import StandardScaler\n"
      ]
    },
    {
      "cell_type": "code",
      "source": [
        "#Importing the Breast Cancer dataset from Sklearn\n",
        "from sklearn.datasets import load_breast_cancer\n",
        "\n",
        "data = load_breast_cancer()"
      ],
      "metadata": {
        "id": "NDeUBHdJTU-8"
      },
      "execution_count": 104,
      "outputs": []
    },
    {
      "cell_type": "code",
      "source": [
        "type(data)"
      ],
      "metadata": {
        "colab": {
          "base_uri": "https://localhost:8080/"
        },
        "id": "PgHRXMpdUaXH",
        "outputId": "126364da-49e8-4b34-8af3-5a08c0842254"
      },
      "execution_count": 105,
      "outputs": [
        {
          "output_type": "execute_result",
          "data": {
            "text/plain": [
              "sklearn.utils._bunch.Bunch"
            ]
          },
          "metadata": {},
          "execution_count": 105
        }
      ]
    },
    {
      "cell_type": "code",
      "source": [
        "data.keys()"
      ],
      "metadata": {
        "colab": {
          "base_uri": "https://localhost:8080/"
        },
        "id": "2qXtcXAkUbq2",
        "outputId": "aa9b32e9-01f7-47fb-da6d-2fa635f33a10"
      },
      "execution_count": 106,
      "outputs": [
        {
          "output_type": "execute_result",
          "data": {
            "text/plain": [
              "dict_keys(['data', 'target', 'frame', 'target_names', 'DESCR', 'feature_names', 'filename', 'data_module'])"
            ]
          },
          "metadata": {},
          "execution_count": 106
        }
      ]
    },
    {
      "cell_type": "code",
      "source": [
        "#Checking Shape\n",
        "data.data.shape\n",
        "#The output of this will show that there are 30 features and 569 samples"
      ],
      "metadata": {
        "colab": {
          "base_uri": "https://localhost:8080/"
        },
        "id": "jaSM8GzlUm2V",
        "outputId": "293d9dbd-cff6-4484-b97a-d6c3c1aea829"
      },
      "execution_count": 107,
      "outputs": [
        {
          "output_type": "execute_result",
          "data": {
            "text/plain": [
              "(569, 30)"
            ]
          },
          "metadata": {},
          "execution_count": 107
        }
      ]
    },
    {
      "cell_type": "code",
      "source": [
        "#The target here is just '0' or '1. If you have 'm' targets then they would be labelled 0.... m - 1\n",
        "\n",
        "data.target"
      ],
      "metadata": {
        "colab": {
          "base_uri": "https://localhost:8080/"
        },
        "id": "1dqIjSbyUrgF",
        "outputId": "30b6792f-7e26-4326-fab3-b865fedfd7fa"
      },
      "execution_count": 108,
      "outputs": [
        {
          "output_type": "execute_result",
          "data": {
            "text/plain": [
              "array([0, 0, 0, 0, 0, 0, 0, 0, 0, 0, 0, 0, 0, 0, 0, 0, 0, 0, 0, 1, 1, 1,\n",
              "       0, 0, 0, 0, 0, 0, 0, 0, 0, 0, 0, 0, 0, 0, 0, 1, 0, 0, 0, 0, 0, 0,\n",
              "       0, 0, 1, 0, 1, 1, 1, 1, 1, 0, 0, 1, 0, 0, 1, 1, 1, 1, 0, 1, 0, 0,\n",
              "       1, 1, 1, 1, 0, 1, 0, 0, 1, 0, 1, 0, 0, 1, 1, 1, 0, 0, 1, 0, 0, 0,\n",
              "       1, 1, 1, 0, 1, 1, 0, 0, 1, 1, 1, 0, 0, 1, 1, 1, 1, 0, 1, 1, 0, 1,\n",
              "       1, 1, 1, 1, 1, 1, 1, 0, 0, 0, 1, 0, 0, 1, 1, 1, 0, 0, 1, 0, 1, 0,\n",
              "       0, 1, 0, 0, 1, 1, 0, 1, 1, 0, 1, 1, 1, 1, 0, 1, 1, 1, 1, 1, 1, 1,\n",
              "       1, 1, 0, 1, 1, 1, 1, 0, 0, 1, 0, 1, 1, 0, 0, 1, 1, 0, 0, 1, 1, 1,\n",
              "       1, 0, 1, 1, 0, 0, 0, 1, 0, 1, 0, 1, 1, 1, 0, 1, 1, 0, 0, 1, 0, 0,\n",
              "       0, 0, 1, 0, 0, 0, 1, 0, 1, 0, 1, 1, 0, 1, 0, 0, 0, 0, 1, 1, 0, 0,\n",
              "       1, 1, 1, 0, 1, 1, 1, 1, 1, 0, 0, 1, 1, 0, 1, 1, 0, 0, 1, 0, 1, 1,\n",
              "       1, 1, 0, 1, 1, 1, 1, 1, 0, 1, 0, 0, 0, 0, 0, 0, 0, 0, 0, 0, 0, 0,\n",
              "       0, 0, 1, 1, 1, 1, 1, 1, 0, 1, 0, 1, 1, 0, 1, 1, 0, 1, 0, 0, 1, 1,\n",
              "       1, 1, 1, 1, 1, 1, 1, 1, 1, 1, 1, 0, 1, 1, 0, 1, 0, 1, 1, 1, 1, 1,\n",
              "       1, 1, 1, 1, 1, 1, 1, 1, 1, 0, 1, 1, 1, 0, 1, 0, 1, 1, 1, 1, 0, 0,\n",
              "       0, 1, 1, 1, 1, 0, 1, 0, 1, 0, 1, 1, 1, 0, 1, 1, 1, 1, 1, 1, 1, 0,\n",
              "       0, 0, 1, 1, 1, 1, 1, 1, 1, 1, 1, 1, 1, 0, 0, 1, 0, 0, 0, 1, 0, 0,\n",
              "       1, 1, 1, 1, 1, 0, 1, 1, 1, 1, 1, 0, 1, 1, 1, 0, 1, 1, 0, 0, 1, 1,\n",
              "       1, 1, 1, 1, 0, 1, 1, 1, 1, 1, 1, 1, 0, 1, 1, 1, 1, 1, 0, 1, 1, 0,\n",
              "       1, 1, 1, 1, 1, 1, 1, 1, 1, 1, 1, 1, 0, 1, 0, 0, 1, 0, 1, 1, 1, 1,\n",
              "       1, 0, 1, 1, 0, 1, 0, 1, 1, 0, 1, 0, 1, 1, 1, 1, 1, 1, 1, 1, 0, 0,\n",
              "       1, 1, 1, 1, 1, 1, 0, 1, 1, 1, 1, 1, 1, 1, 1, 1, 1, 0, 1, 1, 1, 1,\n",
              "       1, 1, 1, 0, 1, 0, 1, 1, 0, 1, 1, 1, 1, 1, 0, 0, 1, 0, 1, 0, 1, 1,\n",
              "       1, 1, 1, 0, 1, 1, 0, 1, 0, 1, 0, 0, 1, 1, 1, 0, 1, 1, 1, 1, 1, 1,\n",
              "       1, 1, 1, 1, 1, 0, 1, 0, 0, 1, 1, 1, 1, 1, 1, 1, 1, 1, 1, 1, 1, 1,\n",
              "       1, 1, 1, 1, 1, 1, 1, 1, 1, 1, 1, 1, 0, 0, 0, 0, 0, 0, 1])"
            ]
          },
          "metadata": {},
          "execution_count": 108
        }
      ]
    },
    {
      "cell_type": "code",
      "source": [
        "#Target Names\n",
        "data.target_names"
      ],
      "metadata": {
        "colab": {
          "base_uri": "https://localhost:8080/"
        },
        "id": "ojdNi3nBU8o_",
        "outputId": "8fcfb0a5-085b-4642-cfb8-19fdc7825d45"
      },
      "execution_count": 109,
      "outputs": [
        {
          "output_type": "execute_result",
          "data": {
            "text/plain": [
              "array(['malignant', 'benign'], dtype='<U9')"
            ]
          },
          "metadata": {},
          "execution_count": 109
        }
      ]
    },
    {
      "cell_type": "code",
      "source": [
        "data.target.shape"
      ],
      "metadata": {
        "colab": {
          "base_uri": "https://localhost:8080/"
        },
        "id": "_-n9E3R_VEUT",
        "outputId": "57362bb8-e886-432d-8e8d-e3d2dae07859"
      },
      "execution_count": 110,
      "outputs": [
        {
          "output_type": "execute_result",
          "data": {
            "text/plain": [
              "(569,)"
            ]
          },
          "metadata": {},
          "execution_count": 110
        }
      ]
    },
    {
      "cell_type": "code",
      "source": [
        "data.feature_names"
      ],
      "metadata": {
        "colab": {
          "base_uri": "https://localhost:8080/"
        },
        "id": "ERaq30C8VGK7",
        "outputId": "ed9e8c36-2e97-4b0b-f0d6-80ae4dd78899"
      },
      "execution_count": 111,
      "outputs": [
        {
          "output_type": "execute_result",
          "data": {
            "text/plain": [
              "array(['mean radius', 'mean texture', 'mean perimeter', 'mean area',\n",
              "       'mean smoothness', 'mean compactness', 'mean concavity',\n",
              "       'mean concave points', 'mean symmetry', 'mean fractal dimension',\n",
              "       'radius error', 'texture error', 'perimeter error', 'area error',\n",
              "       'smoothness error', 'compactness error', 'concavity error',\n",
              "       'concave points error', 'symmetry error',\n",
              "       'fractal dimension error', 'worst radius', 'worst texture',\n",
              "       'worst perimeter', 'worst area', 'worst smoothness',\n",
              "       'worst compactness', 'worst concavity', 'worst concave points',\n",
              "       'worst symmetry', 'worst fractal dimension'], dtype='<U23')"
            ]
          },
          "metadata": {},
          "execution_count": 111
        }
      ]
    },
    {
      "cell_type": "code",
      "source": [
        "#Splittling the data\n",
        "X_train, X_test, y_train, y_test = train_test_split(data.data, data.target, test_size=0.7)\n",
        "N, D = X_train.shape"
      ],
      "metadata": {
        "id": "JueT0pjaVHqw"
      },
      "execution_count": 112,
      "outputs": []
    },
    {
      "cell_type": "code",
      "source": [
        "#Standardization of the data\n",
        "scaler = StandardScaler()\n",
        "X_train = scaler.fit_transform(X_train)\n",
        "X_test = scaler.transform(X_test)"
      ],
      "metadata": {
        "id": "xnzT5UtZVonJ"
      },
      "execution_count": 113,
      "outputs": []
    },
    {
      "cell_type": "code",
      "source": [
        "#Build the Model\n",
        "model = nn.Sequential(nn.Linear(D, 1), nn.Sigmoid())\n",
        "\n",
        "#Loss & Optimizer\n",
        "criterion = nn.BCELoss()\n",
        "optimizer = torch.optim.Adam(model.parameters())\n"
      ],
      "metadata": {
        "id": "MgFOv8M2V4Mw"
      },
      "execution_count": 114,
      "outputs": []
    },
    {
      "cell_type": "code",
      "source": [
        "#Convert to Torch Tensors\n",
        "X_train = torch.from_numpy(X_train.astype(np.float32))\n",
        "X_test = torch.from_numpy(X_test.astype(np.float32))\n",
        "\n",
        "y_train = torch.from_numpy(y_train.astype(np.float32).reshape(-1,1))\n",
        "y_test = torch.from_numpy(y_test.astype(np.float32).reshape(-1,1))"
      ],
      "metadata": {
        "id": "BxlzffNIWN4E"
      },
      "execution_count": 115,
      "outputs": []
    },
    {
      "cell_type": "code",
      "source": [
        "#training the Model\n",
        "\n",
        "epochs = 200\n",
        "\n",
        "train_losses = np.zeros(epochs)\n",
        "test_losses = np.zeros(epochs)\n",
        "\n",
        "for i in range(epochs):\n",
        "  optimizer.zero_grad()\n",
        "\n",
        "  outputs = model(X_train)\n",
        "  loss = criterion(outputs, y_train)\n",
        "\n",
        "  #backward\n",
        "  loss.backward()\n",
        "  optimizer.step()\n",
        "\n",
        "  outputs_test = model(X_test)\n",
        "  loss_test = criterion(outputs_test, y_test)\n",
        "\n",
        "  train_losses[i] = loss.item()\n",
        "  test_losses[i] = loss_test.item()\n",
        "\n",
        "  if (i + 1) % 20 ==0:\n",
        "    print(f\"Epoch {i + 1}/{epochs} Train Loss: {loss.item():.4f}  Test Loss: {loss_test.item(): .4f}\")\n",
        "\n"
      ],
      "metadata": {
        "colab": {
          "base_uri": "https://localhost:8080/"
        },
        "id": "eF5pRCjqWk0Z",
        "outputId": "17c52c8a-b914-43bd-d885-c4e98b0f83bb"
      },
      "execution_count": 126,
      "outputs": [
        {
          "output_type": "stream",
          "name": "stdout",
          "text": [
            "Epoch 20/200 Train Loss: 0.2097  Test Loss:  0.2423\n",
            "Epoch 40/200 Train Loss: 0.2000  Test Loss:  0.2331\n",
            "Epoch 60/200 Train Loss: 0.1913  Test Loss:  0.2249\n",
            "Epoch 80/200 Train Loss: 0.1835  Test Loss:  0.2175\n",
            "Epoch 100/200 Train Loss: 0.1764  Test Loss:  0.2108\n",
            "Epoch 120/200 Train Loss: 0.1700  Test Loss:  0.2047\n",
            "Epoch 140/200 Train Loss: 0.1641  Test Loss:  0.1992\n",
            "Epoch 160/200 Train Loss: 0.1587  Test Loss:  0.1941\n",
            "Epoch 180/200 Train Loss: 0.1538  Test Loss:  0.1894\n",
            "Epoch 200/200 Train Loss: 0.1492  Test Loss:  0.1851\n"
          ]
        }
      ]
    },
    {
      "cell_type": "code",
      "source": [
        "#Plot the Losses\n",
        "plt.plot(train_losses, label='Training Loss')\n",
        "plt.plot(test_losses, label='Test Loss')\n",
        "\n",
        "plt.legend()\n",
        "plt.show()"
      ],
      "metadata": {
        "colab": {
          "base_uri": "https://localhost:8080/",
          "height": 430
        },
        "id": "ggbrhQAWX2uy",
        "outputId": "f4c84ada-efe1-4369-daad-22796a55a90b"
      },
      "execution_count": 127,
      "outputs": [
        {
          "output_type": "display_data",
          "data": {
            "text/plain": [
              "<Figure size 640x480 with 1 Axes>"
            ],
            "image/png": "[encoded data removed]"
          },
          "metadata": {}
        }
      ]
    },
    {
      "cell_type": "code",
      "source": [
        "#Accuracy\n",
        "\n",
        "with torch.no_grad():\n",
        "  p_train = model(X_train)\n",
        "  p_train = np.round(p_train.numpy())\n",
        "  train_acc = np.mean(y_train.numpy() == p_train)\n",
        "\n",
        "  p_test = model(X_test)\n",
        "  p_test = np.round(p_test.numpy())\n",
        "  test_acc = np.mean(y_test.numpy() == p_test)\n",
        "\n",
        "print(f\"Training Accuracy: {train_acc:.4f} Test Accuracy: {test_acc:.4f}\")\n"
      ],
      "metadata": {
        "colab": {
          "base_uri": "https://localhost:8080/"
        },
        "id": "nsy8_MnDYV_-",
        "outputId": "fa6a94b8-2609-48d5-c913-25cda223828f"
      },
      "execution_count": 129,
      "outputs": [
        {
          "output_type": "stream",
          "name": "stdout",
          "text": [
            "Training Accuracy: 0.9765 Test Accuracy: 0.9449\n"
          ]
        }
      ]
    },
    {
      "cell_type": "code",
      "source": [
        "#State Dict\n",
        "model.state_dict()"
      ],
      "metadata": {
        "colab": {
          "base_uri": "https://localhost:8080/"
        },
        "id": "UZunlG9JoTYD",
        "outputId": "cc1f24dd-916e-4e78-a1e9-9c7c88804d66"
      },
      "execution_count": 135,
      "outputs": [
        {
          "output_type": "execute_result",
          "data": {
            "text/plain": [
              "OrderedDict([('0.weight',\n",
              "              tensor([[-0.0619, -0.1644, -0.3100, -0.0642, -0.0788, -0.3512, -0.2798, -0.1185,\n",
              "                       -0.1399,  0.2391, -0.1294, -0.1385, -0.1748, -0.2702,  0.0632, -0.0216,\n",
              "                        0.1441, -0.1659,  0.0943,  0.2658, -0.0581, -0.2962, -0.0930, -0.3237,\n",
              "                       -0.3837, -0.2939, -0.1694, -0.2766, -0.1034, -0.0680]])),\n",
              "             ('0.bias', tensor([0.5012]))])"
            ]
          },
          "metadata": {},
          "execution_count": 135
        }
      ]
    },
    {
      "cell_type": "code",
      "source": [
        "#Save the Model\n",
        "torch.save(model.state_dict(), 'pytorch-linear-classification-model.pt')"
      ],
      "metadata": {
        "id": "lUsm3iElpOIa"
      },
      "execution_count": 136,
      "outputs": []
    },
    {
      "cell_type": "code",
      "source": [
        "!ls\n"
      ],
      "metadata": {
        "colab": {
          "base_uri": "https://localhost:8080/"
        },
        "id": "9hXUs14ppWVg",
        "outputId": "8173f520-e769-47b7-889f-e8adf6883d58"
      },
      "execution_count": 137,
      "outputs": [
        {
          "output_type": "stream",
          "name": "stdout",
          "text": [
            "pytorch-linear-classification-model.pt\tsample_data\n"
          ]
        }
      ]
    },
    {
      "cell_type": "code",
      "source": [
        "#Loading the Model\n",
        "\n",
        "#First create a new Model\n",
        "loaded_model = nn.Sequential(nn.Linear(D, 1), nn.Sigmoid())\n",
        "\n",
        "#Apply the keys\n",
        "loaded_model.load_state_dict(torch.load('pytorch-linear-classification-model.pt'))"
      ],
      "metadata": {
        "colab": {
          "base_uri": "https://localhost:8080/"
        },
        "id": "ahrP6WVhpX18",
        "outputId": "f780dbdc-6249-49e2-9723-06c49ae643c2"
      },
      "execution_count": 138,
      "outputs": [
        {
          "output_type": "execute_result",
          "data": {
            "text/plain": [
              "<All keys matched successfully>"
            ]
          },
          "metadata": {},
          "execution_count": 138
        }
      ]
    },
    {
      "cell_type": "code",
      "source": [
        "#Checking the Model\n",
        "\n",
        "with torch.no_grad():\n",
        "  p_train = loaded_model(X_train)\n",
        "  p_train = np.round(p_train.numpy())\n",
        "  train_acc = np.mean(y_train.numpy() == p_train)\n",
        "\n",
        "  p_test = loaded_model(X_test)\n",
        "  p_test = np.round(p_test.numpy())\n",
        "  test_acc = np.mean(y_test.numpy() == p_test)\n",
        "\n",
        "print(f\"Training Accuracy: {train_acc:.4f} Test Accuracy: {test_acc:.4f}\")"
      ],
      "metadata": {
        "colab": {
          "base_uri": "https://localhost:8080/"
        },
        "id": "Ew4lyKKaprpi",
        "outputId": "bae5eb9b-21df-443e-fa69-142f3d36604d"
      },
      "execution_count": 139,
      "outputs": [
        {
          "output_type": "stream",
          "name": "stdout",
          "text": [
            "Training Accuracy: 0.9765 Test Accuracy: 0.9449\n"
          ]
        }
      ]
    },
    {
      "cell_type": "code",
      "source": [
        "#Download the Model\n",
        "#from google.colab import files\n",
        "#files.download('pytorch-linear-classification-model.pt')\n",
        "\n",
        "#Or just download from the File explorer"
      ],
      "metadata": {
        "id": "XG0X_qxQpzT9"
      },
      "execution_count": null,
      "outputs": []
    }
  ]
}