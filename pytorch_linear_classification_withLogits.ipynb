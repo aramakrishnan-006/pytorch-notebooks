{
  "nbformat": 4,
  "nbformat_minor": 0,
  "metadata": {
    "colab": {
      "provenance": [],
      "authorship_tag": "ABX9TyNtMICdaaqvjn1D1/w2dOyF",
      "include_colab_link": true
    },
    "kernelspec": {
      "name": "python3",
      "display_name": "Python 3"
    },
    "language_info": {
      "name": "python"
    }
  },
  "cells": [
    {
      "cell_type": "markdown",
      "metadata": {
        "id": "view-in-github",
        "colab_type": "text"
      },
      "source": [
        "<a href=\"https://colab.research.google.com/github/aramakrishnan-006/pytorch-notebooks/blob/main/pytorch_linear_classification_withLogits.ipynb\" target=\"_parent\"><img src=\"https://colab.research.google.com/assets/colab-badge.svg\" alt=\"Open In Colab\"/></a>"
      ]
    },
    {
      "cell_type": "code",
      "execution_count": 74,
      "metadata": {
        "id": "P5ucKAPoTJ53"
      },
      "outputs": [],
      "source": [
        "import torch\n",
        "import torch.nn as nn\n",
        "import numpy as np\n",
        "import matplotlib.pyplot as plt\n",
        "from sklearn.model_selection import train_test_split\n",
        "from sklearn.preprocessing import StandardScaler\n"
      ]
    },
    {
      "cell_type": "code",
      "source": [
        "#Importing the Breast Cancer dataset from Sklearn\n",
        "from sklearn.datasets import load_breast_cancer\n",
        "\n",
        "data = load_breast_cancer()"
      ],
      "metadata": {
        "id": "NDeUBHdJTU-8"
      },
      "execution_count": 75,
      "outputs": []
    },
    {
      "cell_type": "code",
      "source": [
        "type(data)"
      ],
      "metadata": {
        "colab": {
          "base_uri": "https://localhost:8080/"
        },
        "id": "PgHRXMpdUaXH",
        "outputId": "d8e5e29c-ac83-425d-ada5-e099b0152a17"
      },
      "execution_count": 76,
      "outputs": [
        {
          "output_type": "execute_result",
          "data": {
            "text/plain": [
              "sklearn.utils._bunch.Bunch"
            ]
          },
          "metadata": {},
          "execution_count": 76
        }
      ]
    },
    {
      "cell_type": "code",
      "source": [
        "data.keys()"
      ],
      "metadata": {
        "colab": {
          "base_uri": "https://localhost:8080/"
        },
        "id": "2qXtcXAkUbq2",
        "outputId": "931437f0-82b1-4b3d-a1bf-4456d906f232"
      },
      "execution_count": 77,
      "outputs": [
        {
          "output_type": "execute_result",
          "data": {
            "text/plain": [
              "dict_keys(['data', 'target', 'frame', 'target_names', 'DESCR', 'feature_names', 'filename', 'data_module'])"
            ]
          },
          "metadata": {},
          "execution_count": 77
        }
      ]
    },
    {
      "cell_type": "code",
      "source": [
        "#Checking Shape\n",
        "data.data.shape\n",
        "#The output of this will show that there are 30 features and 569 samples"
      ],
      "metadata": {
        "colab": {
          "base_uri": "https://localhost:8080/"
        },
        "id": "jaSM8GzlUm2V",
        "outputId": "5a407751-c842-4862-a73d-9f45a0aa81e6"
      },
      "execution_count": 78,
      "outputs": [
        {
          "output_type": "execute_result",
          "data": {
            "text/plain": [
              "(569, 30)"
            ]
          },
          "metadata": {},
          "execution_count": 78
        }
      ]
    },
    {
      "cell_type": "code",
      "source": [
        "#The target here is just '0' or '1. If you have 'm' targets then they would be labelled 0.... m - 1\n",
        "\n",
        "data.target"
      ],
      "metadata": {
        "colab": {
          "base_uri": "https://localhost:8080/"
        },
        "id": "1dqIjSbyUrgF",
        "outputId": "237a79b5-e8cc-4e5d-98a4-763b201c6580"
      },
      "execution_count": 79,
      "outputs": [
        {
          "output_type": "execute_result",
          "data": {
            "text/plain": [
              "array([0, 0, 0, 0, 0, 0, 0, 0, 0, 0, 0, 0, 0, 0, 0, 0, 0, 0, 0, 1, 1, 1,\n",
              "       0, 0, 0, 0, 0, 0, 0, 0, 0, 0, 0, 0, 0, 0, 0, 1, 0, 0, 0, 0, 0, 0,\n",
              "       0, 0, 1, 0, 1, 1, 1, 1, 1, 0, 0, 1, 0, 0, 1, 1, 1, 1, 0, 1, 0, 0,\n",
              "       1, 1, 1, 1, 0, 1, 0, 0, 1, 0, 1, 0, 0, 1, 1, 1, 0, 0, 1, 0, 0, 0,\n",
              "       1, 1, 1, 0, 1, 1, 0, 0, 1, 1, 1, 0, 0, 1, 1, 1, 1, 0, 1, 1, 0, 1,\n",
              "       1, 1, 1, 1, 1, 1, 1, 0, 0, 0, 1, 0, 0, 1, 1, 1, 0, 0, 1, 0, 1, 0,\n",
              "       0, 1, 0, 0, 1, 1, 0, 1, 1, 0, 1, 1, 1, 1, 0, 1, 1, 1, 1, 1, 1, 1,\n",
              "       1, 1, 0, 1, 1, 1, 1, 0, 0, 1, 0, 1, 1, 0, 0, 1, 1, 0, 0, 1, 1, 1,\n",
              "       1, 0, 1, 1, 0, 0, 0, 1, 0, 1, 0, 1, 1, 1, 0, 1, 1, 0, 0, 1, 0, 0,\n",
              "       0, 0, 1, 0, 0, 0, 1, 0, 1, 0, 1, 1, 0, 1, 0, 0, 0, 0, 1, 1, 0, 0,\n",
              "       1, 1, 1, 0, 1, 1, 1, 1, 1, 0, 0, 1, 1, 0, 1, 1, 0, 0, 1, 0, 1, 1,\n",
              "       1, 1, 0, 1, 1, 1, 1, 1, 0, 1, 0, 0, 0, 0, 0, 0, 0, 0, 0, 0, 0, 0,\n",
              "       0, 0, 1, 1, 1, 1, 1, 1, 0, 1, 0, 1, 1, 0, 1, 1, 0, 1, 0, 0, 1, 1,\n",
              "       1, 1, 1, 1, 1, 1, 1, 1, 1, 1, 1, 0, 1, 1, 0, 1, 0, 1, 1, 1, 1, 1,\n",
              "       1, 1, 1, 1, 1, 1, 1, 1, 1, 0, 1, 1, 1, 0, 1, 0, 1, 1, 1, 1, 0, 0,\n",
              "       0, 1, 1, 1, 1, 0, 1, 0, 1, 0, 1, 1, 1, 0, 1, 1, 1, 1, 1, 1, 1, 0,\n",
              "       0, 0, 1, 1, 1, 1, 1, 1, 1, 1, 1, 1, 1, 0, 0, 1, 0, 0, 0, 1, 0, 0,\n",
              "       1, 1, 1, 1, 1, 0, 1, 1, 1, 1, 1, 0, 1, 1, 1, 0, 1, 1, 0, 0, 1, 1,\n",
              "       1, 1, 1, 1, 0, 1, 1, 1, 1, 1, 1, 1, 0, 1, 1, 1, 1, 1, 0, 1, 1, 0,\n",
              "       1, 1, 1, 1, 1, 1, 1, 1, 1, 1, 1, 1, 0, 1, 0, 0, 1, 0, 1, 1, 1, 1,\n",
              "       1, 0, 1, 1, 0, 1, 0, 1, 1, 0, 1, 0, 1, 1, 1, 1, 1, 1, 1, 1, 0, 0,\n",
              "       1, 1, 1, 1, 1, 1, 0, 1, 1, 1, 1, 1, 1, 1, 1, 1, 1, 0, 1, 1, 1, 1,\n",
              "       1, 1, 1, 0, 1, 0, 1, 1, 0, 1, 1, 1, 1, 1, 0, 0, 1, 0, 1, 0, 1, 1,\n",
              "       1, 1, 1, 0, 1, 1, 0, 1, 0, 1, 0, 0, 1, 1, 1, 0, 1, 1, 1, 1, 1, 1,\n",
              "       1, 1, 1, 1, 1, 0, 1, 0, 0, 1, 1, 1, 1, 1, 1, 1, 1, 1, 1, 1, 1, 1,\n",
              "       1, 1, 1, 1, 1, 1, 1, 1, 1, 1, 1, 1, 0, 0, 0, 0, 0, 0, 1])"
            ]
          },
          "metadata": {},
          "execution_count": 79
        }
      ]
    },
    {
      "cell_type": "code",
      "source": [
        "#Target Names\n",
        "data.target_names"
      ],
      "metadata": {
        "colab": {
          "base_uri": "https://localhost:8080/"
        },
        "id": "ojdNi3nBU8o_",
        "outputId": "8793c995-d462-427a-b6fc-c55b2e77b98d"
      },
      "execution_count": 80,
      "outputs": [
        {
          "output_type": "execute_result",
          "data": {
            "text/plain": [
              "array(['malignant', 'benign'], dtype='<U9')"
            ]
          },
          "metadata": {},
          "execution_count": 80
        }
      ]
    },
    {
      "cell_type": "code",
      "source": [
        "data.target.shape"
      ],
      "metadata": {
        "colab": {
          "base_uri": "https://localhost:8080/"
        },
        "id": "_-n9E3R_VEUT",
        "outputId": "1a069140-7c21-42a1-955a-b6e786bf9041"
      },
      "execution_count": 81,
      "outputs": [
        {
          "output_type": "execute_result",
          "data": {
            "text/plain": [
              "(569,)"
            ]
          },
          "metadata": {},
          "execution_count": 81
        }
      ]
    },
    {
      "cell_type": "code",
      "source": [
        "data.feature_names"
      ],
      "metadata": {
        "colab": {
          "base_uri": "https://localhost:8080/"
        },
        "id": "ERaq30C8VGK7",
        "outputId": "4c712e2e-3913-4094-feb8-21822231e4f7"
      },
      "execution_count": 82,
      "outputs": [
        {
          "output_type": "execute_result",
          "data": {
            "text/plain": [
              "array(['mean radius', 'mean texture', 'mean perimeter', 'mean area',\n",
              "       'mean smoothness', 'mean compactness', 'mean concavity',\n",
              "       'mean concave points', 'mean symmetry', 'mean fractal dimension',\n",
              "       'radius error', 'texture error', 'perimeter error', 'area error',\n",
              "       'smoothness error', 'compactness error', 'concavity error',\n",
              "       'concave points error', 'symmetry error',\n",
              "       'fractal dimension error', 'worst radius', 'worst texture',\n",
              "       'worst perimeter', 'worst area', 'worst smoothness',\n",
              "       'worst compactness', 'worst concavity', 'worst concave points',\n",
              "       'worst symmetry', 'worst fractal dimension'], dtype='<U23')"
            ]
          },
          "metadata": {},
          "execution_count": 82
        }
      ]
    },
    {
      "cell_type": "code",
      "source": [
        "#Splittling the data\n",
        "X_train, X_test, y_train, y_test = train_test_split(data.data, data.target, test_size=0.7)\n",
        "N, D = X_train.shape"
      ],
      "metadata": {
        "id": "JueT0pjaVHqw"
      },
      "execution_count": 83,
      "outputs": []
    },
    {
      "cell_type": "code",
      "source": [
        "#Standardization of the data\n",
        "scaler = StandardScaler()\n",
        "X_train = scaler.fit_transform(X_train)\n",
        "X_test = scaler.transform(X_test)"
      ],
      "metadata": {
        "id": "xnzT5UtZVonJ"
      },
      "execution_count": 84,
      "outputs": []
    },
    {
      "cell_type": "code",
      "source": [
        "#Build the Model\n",
        "model = nn.Sequential(nn.Linear(D, 1), nn.Sigmoid())\n",
        "\n",
        "#Loss & Optimizer\n",
        "criterion = nn.BCEWithLogitsLoss()\n",
        "optimizer = torch.optim.Adam(model.parameters())\n"
      ],
      "metadata": {
        "id": "MgFOv8M2V4Mw"
      },
      "execution_count": 85,
      "outputs": []
    },
    {
      "cell_type": "code",
      "source": [
        "#Convert to Torch Tensors\n",
        "X_train = torch.from_numpy(X_train.astype(np.float32))\n",
        "X_test = torch.from_numpy(X_test.astype(np.float32))\n",
        "\n",
        "y_train = torch.from_numpy(y_train.astype(np.float32).reshape(-1,1))\n",
        "y_test = torch.from_numpy(y_test.astype(np.float32).reshape(-1,1))"
      ],
      "metadata": {
        "id": "BxlzffNIWN4E"
      },
      "execution_count": 86,
      "outputs": []
    },
    {
      "cell_type": "code",
      "source": [
        "#training the Model\n",
        "\n",
        "epochs = 500\n",
        "\n",
        "train_losses = np.zeros(epochs)\n",
        "test_losses = np.zeros(epochs)\n",
        "\n",
        "for i in range(epochs):\n",
        "  optimizer.zero_grad()\n",
        "\n",
        "  outputs = model(X_train)\n",
        "  loss = criterion(outputs, y_train)\n",
        "\n",
        "  #backward\n",
        "  loss.backward()\n",
        "  optimizer.step()\n",
        "\n",
        "  outputs_test = model(X_test)\n",
        "  loss_test = criterion(outputs_test, y_test)\n",
        "\n",
        "  train_losses[i] = loss.item()\n",
        "  test_losses[i] = loss_test.item()\n",
        "\n",
        "  if (i + 1) % 20 ==0:\n",
        "    print(f\"Epoch {i + 1}/{epochs} Train Loss: {loss.item():.4f}  Test Loss: {loss_test.item(): .4f}\")\n",
        "\n"
      ],
      "metadata": {
        "colab": {
          "base_uri": "https://localhost:8080/"
        },
        "id": "eF5pRCjqWk0Z",
        "outputId": "2603aa99-0ea6-4448-b558-e032e13a8eb5"
      },
      "execution_count": 87,
      "outputs": [
        {
          "output_type": "stream",
          "name": "stdout",
          "text": [
            "Epoch 20/500 Train Loss: 0.6894  Test Loss:  0.6494\n",
            "Epoch 40/500 Train Loss: 0.6572  Test Loss:  0.6203\n",
            "Epoch 60/500 Train Loss: 0.6300  Test Loss:  0.5965\n",
            "Epoch 80/500 Train Loss: 0.6091  Test Loss:  0.5782\n",
            "Epoch 100/500 Train Loss: 0.5934  Test Loss:  0.5644\n",
            "Epoch 120/500 Train Loss: 0.5814  Test Loss:  0.5537\n",
            "Epoch 140/500 Train Loss: 0.5720  Test Loss:  0.5452\n",
            "Epoch 160/500 Train Loss: 0.5644  Test Loss:  0.5382\n",
            "Epoch 180/500 Train Loss: 0.5581  Test Loss:  0.5324\n",
            "Epoch 200/500 Train Loss: 0.5527  Test Loss:  0.5275\n",
            "Epoch 220/500 Train Loss: 0.5480  Test Loss:  0.5232\n",
            "Epoch 240/500 Train Loss: 0.5439  Test Loss:  0.5194\n",
            "Epoch 260/500 Train Loss: 0.5403  Test Loss:  0.5161\n",
            "Epoch 280/500 Train Loss: 0.5370  Test Loss:  0.5131\n",
            "Epoch 300/500 Train Loss: 0.5340  Test Loss:  0.5105\n",
            "Epoch 320/500 Train Loss: 0.5313  Test Loss:  0.5081\n",
            "Epoch 340/500 Train Loss: 0.5288  Test Loss:  0.5060\n",
            "Epoch 360/500 Train Loss: 0.5264  Test Loss:  0.5041\n",
            "Epoch 380/500 Train Loss: 0.5243  Test Loss:  0.5023\n",
            "Epoch 400/500 Train Loss: 0.5222  Test Loss:  0.5007\n",
            "Epoch 420/500 Train Loss: 0.5203  Test Loss:  0.4991\n",
            "Epoch 440/500 Train Loss: 0.5186  Test Loss:  0.4977\n",
            "Epoch 460/500 Train Loss: 0.5170  Test Loss:  0.4964\n",
            "Epoch 480/500 Train Loss: 0.5155  Test Loss:  0.4952\n",
            "Epoch 500/500 Train Loss: 0.5141  Test Loss:  0.4941\n"
          ]
        }
      ]
    },
    {
      "cell_type": "code",
      "source": [
        "#Plot the Losses\n",
        "plt.plot(train_losses, label='Training Loss')\n",
        "plt.plot(test_losses, label='Test Loss')\n",
        "\n",
        "plt.legend()\n",
        "plt.show()"
      ],
      "metadata": {
        "colab": {
          "base_uri": "https://localhost:8080/",
          "height": 430
        },
        "id": "ggbrhQAWX2uy",
        "outputId": "11a4d14c-f395-4af1-f270-b3d2dbdf30e8"
      },
      "execution_count": 88,
      "outputs": [
        {
          "output_type": "display_data",
          "data": {
            "text/plain": [
              "<Figure size 640x480 with 1 Axes>"
            ],
            "image/png": "[encoded data removed]"
          },
          "metadata": {}
        }
      ]
    },
    {
      "cell_type": "code",
      "source": [
        "#Accuracy\n",
        "\n",
        "with torch.no_grad():\n",
        "  p_train = model(X_train)\n",
        "  p_train = np.round(p_train.numpy() > 0)\n",
        "  train_acc = np.mean(y_train.numpy() == p_train)\n",
        "\n",
        "  p_test = model(X_test)\n",
        "  p_test = np.round(p_test.numpy() > 0)\n",
        "  test_acc = np.mean(y_test.numpy() == p_test)\n",
        "\n",
        "print(f\"Training Accuracy: {train_acc:.4f} Test Accuracy: {test_acc:.4f}\")\n"
      ],
      "metadata": {
        "colab": {
          "base_uri": "https://localhost:8080/"
        },
        "id": "nsy8_MnDYV_-",
        "outputId": "a9189915-d822-4abe-8b3a-7899d4a06fb4"
      },
      "execution_count": 89,
      "outputs": [
        {
          "output_type": "stream",
          "name": "stdout",
          "text": [
            "Training Accuracy: 0.5882 Test Accuracy: 0.6441\n"
          ]
        }
      ]
    },
    {
      "cell_type": "code",
      "source": [
        "#State Dict\n",
        "model.state_dict()"
      ],
      "metadata": {
        "colab": {
          "base_uri": "https://localhost:8080/"
        },
        "id": "UZunlG9JoTYD",
        "outputId": "a5b7d303-1d3c-40f5-bbc5-24102641856a"
      },
      "execution_count": 90,
      "outputs": [
        {
          "output_type": "execute_result",
          "data": {
            "text/plain": [
              "OrderedDict([('0.weight',\n",
              "              tensor([[-0.4221, -0.3838, -0.1057, -0.1389, -0.1753, -0.1062, -0.3240, -0.2300,\n",
              "                       -0.1652,  0.0727, -0.3815,  0.1640, -0.2241, -0.2507,  0.1658, -0.0559,\n",
              "                       -0.0303, -0.3368,  0.3365,  0.1874, -0.3277, -0.3751, -0.1895, -0.2648,\n",
              "                       -0.2310, -0.2649, -0.0750, -0.1711, -0.1756, -0.1335]])),\n",
              "             ('0.bias', tensor([0.0041]))])"
            ]
          },
          "metadata": {},
          "execution_count": 90
        }
      ]
    },
    {
      "cell_type": "code",
      "source": [
        "#Save the Model\n",
        "torch.save(model.state_dict(), 'pytorch-linear-classification-model-withLogits.pt')"
      ],
      "metadata": {
        "id": "lUsm3iElpOIa"
      },
      "execution_count": 91,
      "outputs": []
    },
    {
      "cell_type": "code",
      "source": [
        "!ls\n"
      ],
      "metadata": {
        "colab": {
          "base_uri": "https://localhost:8080/"
        },
        "id": "9hXUs14ppWVg",
        "outputId": "e55f71a0-34ac-4fb4-e38b-86ffd36ff5d3"
      },
      "execution_count": 92,
      "outputs": [
        {
          "output_type": "stream",
          "name": "stdout",
          "text": [
            "pytorch-linear-classification-model.pt\t\t   sample_data\n",
            "pytorch-linear-classification-model-withLogits.pt\n"
          ]
        }
      ]
    },
    {
      "cell_type": "code",
      "source": [
        "#Loading the Model\n",
        "\n",
        "#First create a new Model\n",
        "loaded_model = nn.Sequential(nn.Linear(D, 1), nn.Sigmoid())\n",
        "\n",
        "#Apply the keys\n",
        "loaded_model.load_state_dict(torch.load('pytorch-linear-classification-model-withLogits.pt'))"
      ],
      "metadata": {
        "colab": {
          "base_uri": "https://localhost:8080/"
        },
        "id": "ahrP6WVhpX18",
        "outputId": "7890d741-cb78-4170-945b-a4baf83bc73a"
      },
      "execution_count": 93,
      "outputs": [
        {
          "output_type": "execute_result",
          "data": {
            "text/plain": [
              "<All keys matched successfully>"
            ]
          },
          "metadata": {},
          "execution_count": 93
        }
      ]
    },
    {
      "cell_type": "code",
      "source": [
        "#Checking the Model\n",
        "\n",
        "with torch.no_grad():\n",
        "  p_train = loaded_model(X_train)\n",
        "  p_train = np.round(p_train.numpy() > 0)\n",
        "  train_acc = np.mean(y_train.numpy() == p_train)\n",
        "\n",
        "  p_test = loaded_model(X_test)\n",
        "  p_test = np.round(p_test.numpy() > 0)\n",
        "  test_acc = np.mean(y_test.numpy() == p_test)\n",
        "\n",
        "print(f\"Training Accuracy: {train_acc:.4f} Test Accuracy: {test_acc:.4f}\")"
      ],
      "metadata": {
        "colab": {
          "base_uri": "https://localhost:8080/"
        },
        "id": "Ew4lyKKaprpi",
        "outputId": "dc9bcde3-fdbf-49d8-d191-598cebf42481"
      },
      "execution_count": 94,
      "outputs": [
        {
          "output_type": "stream",
          "name": "stdout",
          "text": [
            "Training Accuracy: 0.5882 Test Accuracy: 0.6441\n"
          ]
        }
      ]
    },
    {
      "cell_type": "code",
      "source": [
        "#Download the Model\n",
        "#from google.colab import files\n",
        "#files.download('pytorch-linear-classification-model.pt')\n",
        "\n",
        "#Or just download from the File explorer"
      ],
      "metadata": {
        "id": "XG0X_qxQpzT9"
      },
      "execution_count": 95,
      "outputs": []
    },
    {
      "cell_type": "code",
      "source": [],
      "metadata": {
        "id": "zFk8p8n8_WgG"
      },
      "execution_count": 95,
      "outputs": []
    }
  ]
}