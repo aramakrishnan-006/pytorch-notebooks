{
  "nbformat": 4,
  "nbformat_minor": 0,
  "metadata": {
    "colab": {
      "provenance": [],
      "authorship_tag": "ABX9TyPo1r3/KBT8qquaPswpFzBQ",
      "include_colab_link": true
    },
    "kernelspec": {
      "name": "python3",
      "display_name": "Python 3"
    },
    "language_info": {
      "name": "python"
    }
  },
  "cells": [
    {
      "cell_type": "markdown",
      "metadata": {
        "id": "view-in-github",
        "colab_type": "text"
      },
      "source": [
        "<a href=\"https://colab.research.google.com/github/aramakrishnan-006/pytorch-notebooks/blob/main/pytorch_linear_regression.ipynb\" target=\"_parent\"><img src=\"https://colab.research.google.com/assets/colab-badge.svg\" alt=\"Open In Colab\"/></a>"
      ]
    },
    {
      "cell_type": "code",
      "execution_count": 49,
      "metadata": {
        "id": "qcZQEZ_ILnBJ"
      },
      "outputs": [],
      "source": [
        "import torch\n",
        "import torch.nn as nn\n",
        "import numpy as np\n",
        "import matplotlib.pyplot as plt"
      ]
    },
    {
      "cell_type": "code",
      "source": [
        "#Generating the data points and adding some Gaussian Noise\n",
        "\n",
        "N = 50\n",
        "\n",
        "X = np.random.random(N)*10 - 5\n",
        "\n",
        "# Slope of 0.5 & bias of -1\n",
        "# MSE is the best loss function when using Gaussian noise\n",
        "Y = 0.5 * X - 1 + np.random.randn(N)\n"
      ],
      "metadata": {
        "id": "lwZpD0wvQkGc"
      },
      "execution_count": 50,
      "outputs": []
    },
    {
      "cell_type": "code",
      "source": [
        "plt.scatter(X,Y)"
      ],
      "metadata": {
        "colab": {
          "base_uri": "https://localhost:8080/",
          "height": 447
        },
        "id": "SJygV9zyQzZF",
        "outputId": "5bf3d842-acbe-41c6-c7a4-3b4b85a8c637"
      },
      "execution_count": 51,
      "outputs": [
        {
          "output_type": "execute_result",
          "data": {
            "text/plain": [
              "<matplotlib.collections.PathCollection at 0x7fbe55b56260>"
            ]
          },
          "metadata": {},
          "execution_count": 51
        },
        {
          "output_type": "display_data",
          "data": {
            "text/plain": [
              "<Figure size 640x480 with 1 Axes>"
            ],
            "image/png": "[encoded data removed]"
          },
          "metadata": {}
        }
      ]
    },
    {
      "cell_type": "code",
      "source": [
        "# Creating the Linear Regression Model\n",
        "# The 1, 1 indicates there are 1 input(s) and output(s)\n",
        "model = nn.Linear(1, 1)\n",
        "\n",
        "criterion = nn.MSELoss()\n",
        "optimizer = torch.optim.SGD(model.parameters(), lr=0.1)\n"
      ],
      "metadata": {
        "id": "eg9CmV9aQ05v"
      },
      "execution_count": 52,
      "outputs": []
    },
    {
      "cell_type": "code",
      "source": [
        "# Need to reshape the data (num of samples x number of dimensions)\n",
        "X = X.reshape(N, 1)\n",
        "Y = Y.reshape(N, 1)"
      ],
      "metadata": {
        "id": "8OtQCQhIR1zk"
      },
      "execution_count": 53,
      "outputs": []
    },
    {
      "cell_type": "code",
      "source": [
        "#Change the inputs and outputs to float32 as that is default in pytorch\n",
        "inputs = torch.from_numpy(X.astype(np.float32))\n",
        "targets = torch.from_numpy(Y.astype(np.float32))"
      ],
      "metadata": {
        "id": "l1AWsI_RSWkQ"
      },
      "execution_count": 54,
      "outputs": []
    },
    {
      "cell_type": "code",
      "source": [
        "type(inputs)"
      ],
      "metadata": {
        "colab": {
          "base_uri": "https://localhost:8080/"
        },
        "id": "vy2lsqviSpf7",
        "outputId": "19ded6f3-35b0-4ae2-ab9a-ad1e4573252e"
      },
      "execution_count": 55,
      "outputs": [
        {
          "output_type": "execute_result",
          "data": {
            "text/plain": [
              "torch.Tensor"
            ]
          },
          "metadata": {},
          "execution_count": 55
        }
      ]
    },
    {
      "cell_type": "code",
      "source": [
        "#Training the Model\n",
        "epochs = 15\n",
        "losses = []\n",
        "\n",
        "for i in range(epochs):\n",
        "  #Zero the gradient as Pytorch stores it\n",
        "  optimizer.zero_grad()\n",
        "\n",
        "  #Train\n",
        "  outputs = model(inputs)\n",
        "  loss = criterion(outputs, targets)\n",
        "\n",
        "  #Store the Loss\n",
        "  #This is a single number\n",
        "  losses.append(loss.item())\n",
        "\n",
        "  #Backward & Optimize\n",
        "  #Gradients\n",
        "  loss.backward()\n",
        "  #1 step of gradient descent\n",
        "  optimizer.step()\n",
        "\n",
        "  print(f'Epoch {i + 1}/{epochs}, Loss is {loss.item():.3f}')"
      ],
      "metadata": {
        "colab": {
          "base_uri": "https://localhost:8080/"
        },
        "id": "bPaUv0bUSrty",
        "outputId": "2ad8379b-673e-49b2-eb99-07fb7b0c9536"
      },
      "execution_count": 56,
      "outputs": [
        {
          "output_type": "stream",
          "name": "stdout",
          "text": [
            "Epoch 1/15, Loss is 6.547\n",
            "Epoch 2/15, Loss is 3.797\n",
            "Epoch 3/15, Loss is 2.526\n",
            "Epoch 4/15, Loss is 1.916\n",
            "Epoch 5/15, Loss is 1.608\n",
            "Epoch 6/15, Loss is 1.446\n",
            "Epoch 7/15, Loss is 1.355\n",
            "Epoch 8/15, Loss is 1.302\n",
            "Epoch 9/15, Loss is 1.270\n",
            "Epoch 10/15, Loss is 1.251\n",
            "Epoch 11/15, Loss is 1.238\n",
            "Epoch 12/15, Loss is 1.230\n",
            "Epoch 13/15, Loss is 1.225\n",
            "Epoch 14/15, Loss is 1.222\n",
            "Epoch 15/15, Loss is 1.219\n"
          ]
        }
      ]
    },
    {
      "cell_type": "code",
      "source": [
        "#Plotting the losses\n",
        "plt.plot(losses)"
      ],
      "metadata": {
        "colab": {
          "base_uri": "https://localhost:8080/",
          "height": 447
        },
        "id": "oWdFsPXGURSr",
        "outputId": "171bada1-d7b1-40fa-bcdd-2a71e3a374c2"
      },
      "execution_count": 57,
      "outputs": [
        {
          "output_type": "execute_result",
          "data": {
            "text/plain": [
              "[<matplotlib.lines.Line2D at 0x7fbe559f4760>]"
            ]
          },
          "metadata": {},
          "execution_count": 57
        },
        {
          "output_type": "display_data",
          "data": {
            "text/plain": [
              "<Figure size 640x480 with 1 Axes>"
            ],
            "image/png": "[encoded data removed]"
          },
          "metadata": {}
        }
      ]
    },
    {
      "cell_type": "code",
      "source": [
        "#Predict outputs based on inputs using the model\n",
        "\n",
        "predict = model(inputs).detach().numpy()\n",
        "\n",
        "# Plot the graph\n",
        "plt.scatter(X, Y, label = 'Original Data', color='red')\n",
        "plt.plot(X, predict, label = 'Predicted')\n",
        "\n",
        "plt.legend()\n",
        "plt.show()"
      ],
      "metadata": {
        "colab": {
          "base_uri": "https://localhost:8080/",
          "height": 430
        },
        "id": "fgRKRKnAdEnB",
        "outputId": "2eb5f8d5-ae13-457b-ef21-a05b8061d963"
      },
      "execution_count": 58,
      "outputs": [
        {
          "output_type": "display_data",
          "data": {
            "text/plain": [
              "<Figure size 640x480 with 1 Axes>"
            ],
            "image/png": "[encoded data removed]"
          },
          "metadata": {}
        }
      ]
    },
    {
      "cell_type": "code",
      "source": [
        "with torch.no_grad():\n",
        "  out = model(inputs).numpy()\n",
        "\n",
        "out"
      ],
      "metadata": {
        "colab": {
          "base_uri": "https://localhost:8080/"
        },
        "id": "4fw6v8kHeL6l",
        "outputId": "55728d24-611c-4d70-b552-34b2e4177d82"
      },
      "execution_count": 59,
      "outputs": [
        {
          "output_type": "execute_result",
          "data": {
            "text/plain": [
              "array([[-2.0280392 ],\n",
              "       [-2.8271234 ],\n",
              "       [-1.9755533 ],\n",
              "       [ 0.7373585 ],\n",
              "       [-0.38469112],\n",
              "       [-1.8672326 ],\n",
              "       [-2.4629703 ],\n",
              "       [-0.06722599],\n",
              "       [-1.4953684 ],\n",
              "       [-2.7885938 ],\n",
              "       [-1.0008801 ],\n",
              "       [-1.4675598 ],\n",
              "       [ 0.49831432],\n",
              "       [-0.040537  ],\n",
              "       [-1.6161287 ],\n",
              "       [ 0.02066141],\n",
              "       [-2.7548232 ],\n",
              "       [-0.9095936 ],\n",
              "       [-2.0758862 ],\n",
              "       [-2.4615142 ],\n",
              "       [-0.14469254],\n",
              "       [-0.07778436],\n",
              "       [ 0.40728313],\n",
              "       [-2.0026865 ],\n",
              "       [-1.3380723 ],\n",
              "       [-0.748435  ],\n",
              "       [-1.955139  ],\n",
              "       [-1.6329513 ],\n",
              "       [-1.1289858 ],\n",
              "       [-0.09991819],\n",
              "       [-1.1563947 ],\n",
              "       [-2.4215817 ],\n",
              "       [ 0.8859497 ],\n",
              "       [-0.31028843],\n",
              "       [-2.7813082 ],\n",
              "       [-0.06176424],\n",
              "       [-2.1329858 ],\n",
              "       [-2.8325734 ],\n",
              "       [-1.8659449 ],\n",
              "       [-1.2703414 ],\n",
              "       [-0.5179142 ],\n",
              "       [-2.3442802 ],\n",
              "       [-2.8798485 ],\n",
              "       [-0.9279264 ],\n",
              "       [-0.06233048],\n",
              "       [ 0.7933027 ],\n",
              "       [-1.039466  ],\n",
              "       [-2.7907    ],\n",
              "       [-1.8276792 ],\n",
              "       [-0.8624893 ]], dtype=float32)"
            ]
          },
          "metadata": {},
          "execution_count": 59
        }
      ]
    },
    {
      "cell_type": "code",
      "source": [
        "# Print the weights & Biases\n",
        "weights = model.weight.data.numpy()\n",
        "bias = model.bias.data.numpy()\n",
        "\n",
        "#Note that the weights is a 2D array\n",
        "print(f'Weights are {weights} & Biases are {bias}')"
      ],
      "metadata": {
        "colab": {
          "base_uri": "https://localhost:8080/"
        },
        "id": "jmMTcU97e75p",
        "outputId": "2cd31b25-c526-482b-ff81-2e29e7618284"
      },
      "execution_count": 60,
      "outputs": [
        {
          "output_type": "stream",
          "name": "stdout",
          "text": [
            "Weights are [[0.39332172]] & Biases are [-0.9976514]\n"
          ]
        }
      ]
    },
    {
      "cell_type": "code",
      "source": [],
      "metadata": {
        "id": "TqMQVIFxfQ3w"
      },
      "execution_count": 60,
      "outputs": []
    }
  ]
}